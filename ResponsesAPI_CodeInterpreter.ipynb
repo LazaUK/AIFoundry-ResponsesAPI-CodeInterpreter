{
 "cells": [
  {
   "cell_type": "markdown",
   "id": "87498c8e",
   "metadata": {},
   "source": [
    "## Using Code Interpreter with Responses API"
   ]
  },
  {
   "cell_type": "markdown",
   "id": "91b7a492",
   "metadata": {},
   "source": [
    "### Environment Setup"
   ]
  },
  {
   "cell_type": "code",
   "execution_count": 1,
   "id": "2ee26375",
   "metadata": {},
   "outputs": [],
   "source": [
    "# Import required packages\n",
    "import os\n",
    "import json\n",
    "import requests\n",
    "from pathlib import Path\n",
    "from IPython.display import Image, display\n",
    "from openai import AzureOpenAI\n",
    "from azure.identity import DefaultAzureCredential, get_bearer_token_provider"
   ]
  },
  {
   "cell_type": "code",
   "execution_count": 2,
   "id": "b2d5c9f1",
   "metadata": {},
   "outputs": [],
   "source": [
    "# Set up environment variables for Azure OpenAI\n",
    "AOAI_API_BASE = os.getenv(\"AZURE_OPENAI_API_BASE\")\n",
    "AOAI_API_VERSION = os.getenv(\"AZURE_OPENAI_API_VERSION\")\n",
    "AOAI_DEPLOYMENT = os.getenv(\"AZURE_OPENAI_API_DEPLOY\")"
   ]
  },
  {
   "cell_type": "markdown",
   "id": "e133ad70",
   "metadata": {},
   "source": [
    "### Azure OpenAI Client Setup"
   ]
  },
  {
   "cell_type": "code",
   "execution_count": 3,
   "id": "1d7345f3",
   "metadata": {},
   "outputs": [],
   "source": [
    "# Initialise token provider\n",
    "token_provider = get_bearer_token_provider(\n",
    "    DefaultAzureCredential(),\n",
    "    \"https://cognitiveservices.azure.com/.default\"\n",
    ")"
   ]
  },
  {
   "cell_type": "code",
   "execution_count": 4,
   "id": "e384744c",
   "metadata": {},
   "outputs": [],
   "source": [
    "# Initialise Azure OpenAI client\n",
    "client = AzureOpenAI(  \n",
    "    azure_endpoint = AOAI_API_BASE,\n",
    "    azure_ad_token_provider = token_provider,\n",
    "    api_version = AOAI_API_VERSION,\n",
    ")"
   ]
  },
  {
   "cell_type": "markdown",
   "id": "1c73004d",
   "metadata": {},
   "source": [
    "### Testing Responses API"
   ]
  },
  {
   "cell_type": "code",
   "execution_count": 5,
   "id": "7ee2f34f",
   "metadata": {},
   "outputs": [
    {
     "name": "stdout",
     "output_type": "stream",
     "text": [
      "Endless waves embrace,  \n",
      "Whispers dance on salt-kissed breeze,  \n",
      "Ocean’s heart beats deep.\n"
     ]
    }
   ],
   "source": [
    "# Test Responses API\n",
    "response = client.responses.create(\n",
    "    model = AOAI_DEPLOYMENT,\n",
    "    input = \"Generate a haiku about the sea\", \n",
    ")\n",
    "\n",
    "print(response.output[0].content[0].text) "
   ]
  },
  {
   "cell_type": "markdown",
   "id": "f3ddaa73",
   "metadata": {},
   "source": [
    "### Code Interpreter output"
   ]
  },
  {
   "cell_type": "code",
   "execution_count": 6,
   "id": "89b853d4",
   "metadata": {},
   "outputs": [],
   "source": [
    "# Set input prompt\n",
    "INPUT_TEXT = \"Could you please analyse the operating profit of Contoso Inc. using the following data and producing a bar chart image. Contoso Inc. Operating Profit: Quarter 1: $2.2 million, Quarter 2: $2.5 million, Quarter 3: $2.3 million, Quarter 4: $3.8 million, Industry Average: $2.5 million. When quarter values in 2025 fall below the industry average, please highlight them in red, otherwise they should be green.\""
   ]
  },
  {
   "cell_type": "code",
   "execution_count": 7,
   "id": "66d97e64",
   "metadata": {},
   "outputs": [],
   "source": [
    "# Generate a file with the code interpreter\n",
    "response = client.responses.create(\n",
    "    model = AOAI_DEPLOYMENT,\n",
    "    tools = [\n",
    "        {\n",
    "            \"type\": \"code_interpreter\",\n",
    "            \"container\": {\"type\": \"auto\"}\n",
    "        }\n",
    "    ],\n",
    "    instructions = \"You are a helpful data analyst. You should use Python tool to perform required calculations.\",\n",
    "    input = INPUT_TEXT\n",
    ")\n",
    "\n",
    "# print(response.model_dump_json(indent=2))"
   ]
  },
  {
   "cell_type": "code",
   "execution_count": 8,
   "id": "73e7cde3",
   "metadata": {},
   "outputs": [
    {
     "name": "stdout",
     "output_type": "stream",
     "text": [
      "[\n",
      "  {\n",
      "    \"container_id\": \"cntr_689df3cb69648190b73217f54eeb713806df641648828556\",\n",
      "    \"file_id\": \"cfile_689df41900fc81909d22ec83e7dafbe1\",\n",
      "    \"filename\": \"cfile_689df41900fc81909d22ec83e7dafbe1.png\"\n",
      "  }\n",
      "]\n"
     ]
    }
   ],
   "source": [
    "# Extract details of generated files\n",
    "extracted_files = []\n",
    "\n",
    "for item in response.output:\n",
    "    if hasattr(item, 'content'):\n",
    "        for content_block in item.content:\n",
    "            if hasattr(content_block, 'annotations') and content_block.annotations:\n",
    "                for annotation in content_block.annotations:\n",
    "                    if hasattr(annotation, 'file_id'):\n",
    "                        file_info = {\n",
    "                            \"container_id\": getattr(annotation, 'container_id', None),\n",
    "                            \"file_id\": getattr(annotation, 'file_id', None),\n",
    "                            \"filename\": getattr(annotation, 'filename', None)\n",
    "                        }\n",
    "                        extracted_files.append(file_info)\n",
    "\n",
    "print(json.dumps(extracted_files, indent=2))"
   ]
  },
  {
   "cell_type": "code",
   "execution_count": 9,
   "id": "d8d3917e",
   "metadata": {},
   "outputs": [
    {
     "name": "stdout",
     "output_type": "stream",
     "text": [
      "Successfully downloaded to downloads\\cfile_689df41900fc81909d22ec83e7dafbe1.png\n"
     ]
    }
   ],
   "source": [
    "# Download generated files\n",
    "if extracted_files:\n",
    "    token = token_provider()\n",
    "    headers = {\"Authorization\": f\"Bearer {token}\"}\n",
    "    params = {\"api-version\": \"preview\"}\n",
    "\n",
    "    for file in extracted_files:\n",
    "        container_id = file['container_id']\n",
    "        file_id = file['file_id']\n",
    "        filename = file['filename']\n",
    "        url = f\"{AOAI_API_BASE}openai/v1/containers/{container_id}/files/{file_id}/content\"\n",
    "\n",
    "        try:        \n",
    "            response_req = requests.get(url, headers=headers, params=params, timeout=30)\n",
    "            if response_req.status_code == 200:\n",
    "                Path(\"./downloads\").mkdir(exist_ok=True)\n",
    "                file_path = Path(\"./downloads\") / filename\n",
    "            \n",
    "                with open(file_path, 'wb') as f:\n",
    "                    f.write(response_req.content)\n",
    "\n",
    "                print(f\"Successfully downloaded to {file_path}\")\n",
    "            else:\n",
    "                print(f\"Failed to download container file {filename}, status code: {response_req.status_code}\")\n",
    "        except Exception as e:\n",
    "            print(f\"Exception: {str(e)}\")\n",
    "\n",
    "else:\n",
    "    print(\"No files extracted from the Response API.\")\n"
   ]
  },
  {
   "cell_type": "markdown",
   "id": "6cb7354e",
   "metadata": {},
   "source": [
    "### Verifying Graphical Output"
   ]
  },
  {
   "cell_type": "code",
   "execution_count": 10,
   "id": "5cf38399",
   "metadata": {},
   "outputs": [
    {
     "data": {
      "image/png": "[encoded data removed]",
      "text/plain": [
       "<IPython.core.display.Image object>"
      ]
     },
     "metadata": {},
     "output_type": "display_data"
    }
   ],
   "source": [
    "# Display downloaded files\n",
    "if extracted_files:\n",
    "    \n",
    "    for file in extracted_files:\n",
    "        filename = file['filename']\n",
    "        if filename.endswith('.png'):\n",
    "            file_path = Path(\"./downloads\") / filename\n",
    "            if file_path.exists():\n",
    "                display(Image(filename=file_path))\n",
    "            else:\n",
    "                print(f\"File not found: {file_path}\")"
   ]
  }
 ],
 "metadata": {
  "kernelspec": {
   "display_name": "Python 3",
   "language": "python",
   "name": "python3"
  },
  "language_info": {
   "codemirror_mode": {
    "name": "ipython",
    "version": 3
   },
   "file_extension": ".py",
   "mimetype": "text/x-python",
   "name": "python",
   "nbconvert_exporter": "python",
   "pygments_lexer": "ipython3",
   "version": "3.11.9"
  }
 },
 "nbformat": 4,
 "nbformat_minor": 5
}
