{
 "cells": [
  {
   "cell_type": "markdown",
   "id": "87498c8e",
   "metadata": {},
   "source": [
    "## Using Code Interpreter with Responses API"
   ]
  },
  {
   "cell_type": "markdown",
   "id": "91b7a492",
   "metadata": {},
   "source": [
    "### Environment Setup"
   ]
  },
  {
   "cell_type": "code",
   "execution_count": 1,
   "id": "2ee26375",
   "metadata": {},
   "outputs": [],
   "source": [
    "# Import required packages\n",
    "import os\n",
    "import json\n",
    "import requests\n",
    "from pathlib import Path\n",
    "from openai import AzureOpenAI\n",
    "from azure.identity import DefaultAzureCredential, get_bearer_token_provider"
   ]
  },
  {
   "cell_type": "code",
   "execution_count": 2,
   "id": "b2d5c9f1",
   "metadata": {},
   "outputs": [],
   "source": [
    "# Set up environment variables for Azure OpenAI\n",
    "AOAI_API_BASE = os.getenv(\"AZURE_OPENAI_API_BASE\")\n",
    "AOAI_API_VERSION = os.getenv(\"AZURE_OPENAI_API_VERSION\")\n",
    "AOAI_DEPLOYMENT = os.getenv(\"AZURE_OPENAI_API_DEPLOY\")"
   ]
  },
  {
   "cell_type": "markdown",
   "id": "e133ad70",
   "metadata": {},
   "source": [
    "### Azure OpenAI Client Setup"
   ]
  },
  {
   "cell_type": "code",
   "execution_count": 3,
   "id": "1d7345f3",
   "metadata": {},
   "outputs": [],
   "source": [
    "# Initialise token provider\n",
    "token_provider = get_bearer_token_provider(\n",
    "    DefaultAzureCredential(),\n",
    "    \"https://cognitiveservices.azure.com/.default\"\n",
    ")"
   ]
  },
  {
   "cell_type": "code",
   "execution_count": 4,
   "id": "e384744c",
   "metadata": {},
   "outputs": [],
   "source": [
    "# Initialise Azure OpenAI client\n",
    "client = AzureOpenAI(  \n",
    "    azure_endpoint = AOAI_API_BASE,\n",
    "    azure_ad_token_provider = token_provider,\n",
    "    api_version = AOAI_API_VERSION,\n",
    ")"
   ]
  },
  {
   "cell_type": "markdown",
   "id": "1c73004d",
   "metadata": {},
   "source": [
    "### Testing Responses API"
   ]
  },
  {
   "cell_type": "code",
   "execution_count": 5,
   "id": "7ee2f34f",
   "metadata": {},
   "outputs": [
    {
     "name": "stdout",
     "output_type": "stream",
     "text": [
      "Endless waves embrace,  \n",
      "Whispering ancient secrets,  \n",
      "Ocean’s heart beats calm.\n"
     ]
    }
   ],
   "source": [
    "# Test Responses API\n",
    "response = client.responses.create(\n",
    "    model = AOAI_DEPLOYMENT,\n",
    "    input = \"Generate a haiku about the sea\", \n",
    ")\n",
    "\n",
    "print(response.output[0].content[0].text) "
   ]
  },
  {
   "cell_type": "markdown",
   "id": "f3ddaa73",
   "metadata": {},
   "source": [
    "### Code Interpreter output"
   ]
  },
  {
   "cell_type": "code",
   "execution_count": 6,
   "id": "89b853d4",
   "metadata": {},
   "outputs": [],
   "source": [
    "# Set input prompt\n",
    "INPUT_TEXT = \"Could you please analyse the operating profit of Contoso Inc. using the following data and producing a bar chart image. Contoso Inc. Operating Profit: Quarter 1: $2.2 million, Quarter 2: $2.5 million, Quarter 3: $2.3 million, Quarter 4: $3.8 million, Industry Average: $2.5 million. When quarter values in 2025 fall below the industry average, please highlight them in red, otherwise they should be green.\""
   ]
  },
  {
   "cell_type": "code",
   "execution_count": 7,
   "id": "66d97e64",
   "metadata": {},
   "outputs": [],
   "source": [
    "# Generate a file with the code interpreter\n",
    "response = client.responses.create(\n",
    "    model = AOAI_DEPLOYMENT,\n",
    "    tools = [\n",
    "        {\n",
    "            \"type\": \"code_interpreter\",\n",
    "            \"container\": {\"type\": \"auto\"}\n",
    "        }\n",
    "    ],\n",
    "    instructions = \"You are a helpful data analyst. You should use Python tool to perform required calculations.\",\n",
    "    input = INPUT_TEXT\n",
    ")\n",
    "\n",
    "# print(response.model_dump_json(indent=2))"
   ]
  },
  {
   "cell_type": "code",
   "execution_count": 8,
   "id": "73e7cde3",
   "metadata": {},
   "outputs": [
    {
     "name": "stdout",
     "output_type": "stream",
     "text": [
      "[\n",
      "  {\n",
      "    \"container_id\": \"cntr_68990aaa13b88190810d4b9a5e1cc7b20727e1a613c30bf2\",\n",
      "    \"file_id\": \"cfile_68990aafbcd88190918923dc947b587b\",\n",
      "    \"filename\": \"cfile_68990aafbcd88190918923dc947b587b.png\"\n",
      "  },\n",
      "  {\n",
      "    \"container_id\": \"cntr_68990aaa13b88190810d4b9a5e1cc7b20727e1a613c30bf2\",\n",
      "    \"file_id\": \"cfile_68990ab2226c81909c4595c7e54b0364\",\n",
      "    \"filename\": \"contoso_operating_profit.png\"\n",
      "  }\n",
      "]\n"
     ]
    }
   ],
   "source": [
    "# Extract details of generated files\n",
    "extracted_files = []\n",
    "\n",
    "for item in response.output:\n",
    "    if hasattr(item, 'content'):\n",
    "        for content_block in item.content:\n",
    "            if hasattr(content_block, 'annotations') and content_block.annotations:\n",
    "                for annotation in content_block.annotations:\n",
    "                    if hasattr(annotation, 'file_id'):\n",
    "                        file_info = {\n",
    "                            \"container_id\": getattr(annotation, 'container_id', None),\n",
    "                            \"file_id\": getattr(annotation, 'file_id', None),\n",
    "                            \"filename\": getattr(annotation, 'filename', None)\n",
    "                        }\n",
    "                        extracted_files.append(file_info)\n",
    "\n",
    "print(json.dumps(extracted_files, indent=2))"
   ]
  },
  {
   "cell_type": "markdown",
   "id": "50bfce0c",
   "metadata": {},
   "source": [
    "### Troubleshooting Details"
   ]
  },
  {
   "cell_type": "code",
   "execution_count": 9,
   "id": "eb28b16b",
   "metadata": {},
   "outputs": [
    {
     "name": "stdout",
     "output_type": "stream",
     "text": [
      "🔍 Azure OpenAI - Issue with access to file in Code Interpreter's container\n",
      "============================================================\n",
      "\n",
      "1️⃣ Using existing response: resp_68990aa90e4481908b55044faa2ce58e09409ad29506dd9e\n",
      "   ✅ File found in annotations:\n",
      "      Container ID: cntr_68990aaa13b88190810d4b9a5e1cc7b20727e1a613c30bf2\n",
      "      File ID: cfile_68990aafbcd88190918923dc947b587b\n",
      "      Filename: cfile_68990aafbcd88190918923dc947b587b.png\n",
      "\n",
      "2️⃣ Attempting download using OpenAI documented pattern...\n",
      "   📖 Reference: https://platform.openai.com/docs/api-reference/responses\n",
      "   📖 OpenAI pattern: GET /v1/containers/{container_id}/files/{file_id}\n",
      "\n",
      "   🔗 Azure OpenAI Request:\n",
      "      URL: https://laziz-aoai-swc.openai.azure.com/openai/v1/containers/cntr_68990aaa13b88190810d4b9a5e1cc7b20727e1a613c30bf2/files/cfile_68990aafbcd88190918923dc947b587b\n",
      "      Headers: Authorization: Bearer [token]\n",
      "      Params: {'api-version': 'preview'}\n",
      "\n",
      "   📊 Response:\n",
      "      Status Code: 404\n",
      "      Response Body: \n",
      "      ❌ FAILURE: Cannot download container file\n",
      "\n",
      "============================================================\n",
      "📋 ISSUE SUMMARY FOR PG LOGGING\n",
      "============================================================\n",
      "\n",
      "🔍 ISSUE: Files created by Code Interpreter (Responses API) cannot be downloaded\n",
      "\n",
      "📖 EXPECTED: Files should be downloadable per OpenAI docs:\n",
      "   GET /v1/containers/{container_id}/files/{file_id}\n",
      "\n",
      "❌ ACTUAL: Azure OpenAI returns HTTP 404:\n",
      "   GET {endpoint}/openai/v1/containers/{container_id}/files/{file_id}?api-version=preview\n",
      "\n",
      "✅ CONFIRMED:\n",
      "   - Files are created successfully\n",
      "   - Container/File IDs provided in AnnotationContainerFileCitation\n",
      "   - Authentication is working (gets 404, not 401/403)\n",
      "\n",
      "❓ REQUEST: Is container file download:\n",
      "   1. Not implemented in Azure OpenAI Responses API?\n",
      "   2. Using different endpoint/method?\n",
      "   3. Planned for future release?\n",
      "\n",
      "📄 Details: API - 2025-04-01-preview, Model - GPT-4.1-mini\n",
      "\n"
     ]
    }
   ],
   "source": [
    "# Detailed output for PG\n",
    "def demonstrate_container_file_access_issue():\n",
    "    \"\"\"\n",
    "    Demonstrates the container file access issue using existing response object\n",
    "    \"\"\"\n",
    "    \n",
    "    print(\"🔍 Azure OpenAI - Issue with access to file in Code Interpreter's container\")\n",
    "    print(\"=\" * 60)\n",
    "    \n",
    "    # Step 1: Extract file info from existing response\n",
    "    print(f\"\\n1️⃣ Using existing response: {response.id}\")\n",
    "    \n",
    "    container_id = None\n",
    "    file_id = None\n",
    "    filename = None\n",
    "    \n",
    "    for output_item in response.output:\n",
    "        if hasattr(output_item, 'content'):\n",
    "            for content_block in output_item.content:\n",
    "                if hasattr(content_block, 'annotations') and content_block.annotations:\n",
    "                    for annotation in content_block.annotations:\n",
    "                        if hasattr(annotation, 'file_id'):\n",
    "                            container_id = getattr(annotation, 'container_id', None)\n",
    "                            file_id = getattr(annotation, 'file_id', None) \n",
    "                            filename = getattr(annotation, 'filename', None)\n",
    "                            break\n",
    "    \n",
    "    if not file_id:\n",
    "        print(\"   ❌ No files found in annotations\")\n",
    "        return False\n",
    "    \n",
    "    print(f\"   ✅ File found in annotations:\")\n",
    "    print(f\"      Container ID: {container_id}\")\n",
    "    print(f\"      File ID: {file_id}\")\n",
    "    print(f\"      Filename: {filename}\")\n",
    "    \n",
    "    # Step 2: Attempt download using OpenAI documented pattern\n",
    "    print(f\"\\n2️⃣ Attempting download using OpenAI documented pattern...\")\n",
    "    print(f\"   📖 Reference: https://platform.openai.com/docs/api-reference/responses\")\n",
    "    print(f\"   📖 OpenAI pattern: GET /v1/containers/{{container_id}}/files/{{file_id}}\")\n",
    "    \n",
    "    # Azure OpenAI equivalent\n",
    "    url = f\"{AOAI_API_BASE}openai/v1/containers/{container_id}/files/{file_id}\"\n",
    "    \n",
    "    token = token_provider()\n",
    "    headers = {\"Authorization\": f\"Bearer {token}\"}\n",
    "    params = {\"api-version\": \"preview\"}\n",
    "    \n",
    "    print(f\"\\n   🔗 Azure OpenAI Request:\")\n",
    "    print(f\"      URL: {url}\")\n",
    "    print(f\"      Headers: Authorization: Bearer [token]\")\n",
    "    print(f\"      Params: {params}\")\n",
    "    \n",
    "    try:\n",
    "        response_req = requests.get(url, headers=headers, params=params, timeout=30)\n",
    "        \n",
    "        print(f\"\\n   📊 Response:\")\n",
    "        print(f\"      Status Code: {response_req.status_code}\")\n",
    "        print(f\"      Response Body: {response_req.text}\")\n",
    "        \n",
    "        if response_req.status_code == 200:\n",
    "            Path(\"./downloads\").mkdir(exist_ok=True)\n",
    "            file_path = Path(\"./downloads\") / filename\n",
    "            \n",
    "            with open(file_path, 'wb') as f:\n",
    "                f.write(response_req.content)\n",
    "            \n",
    "            print(f\"      ✅ SUCCESS: File downloaded to {file_path}\")\n",
    "            return True\n",
    "        else:\n",
    "            print(f\"      ❌ FAILURE: Cannot download container file\")\n",
    "            return False\n",
    "            \n",
    "    except Exception as e:\n",
    "        print(f\"      ❌ EXCEPTION: {str(e)}\")\n",
    "        return False\n",
    "\n",
    "def print_summary():\n",
    "    \"\"\"\n",
    "    Summary for PG\n",
    "    \"\"\"\n",
    "    print(f\"\\n\" + \"=\" * 60)\n",
    "    print(\"📋 ISSUE SUMMARY FOR PG LOGGING\")\n",
    "    print(\"=\" * 60)\n",
    "    \n",
    "    print(f\"\"\"\n",
    "🔍 ISSUE: Files created by Code Interpreter (Responses API) cannot be downloaded\n",
    "\n",
    "📖 EXPECTED: Files should be downloadable per OpenAI docs:\n",
    "   GET /v1/containers/{{container_id}}/files/{{file_id}}\n",
    "\n",
    "❌ ACTUAL: Azure OpenAI returns HTTP 404:\n",
    "   GET {{endpoint}}/openai/v1/containers/{{container_id}}/files/{{file_id}}?api-version=preview\n",
    "\n",
    "✅ CONFIRMED:\n",
    "   - Files are created successfully\n",
    "   - Container/File IDs provided in AnnotationContainerFileCitation\n",
    "   - Authentication is working (gets 404, not 401/403)\n",
    "\n",
    "❓ REQUEST: Is container file download:\n",
    "   1. Not implemented in Azure OpenAI Responses API?\n",
    "   2. Using different endpoint/method?\n",
    "   3. Planned for future release?\n",
    "\n",
    "📄 Details: API - {AOAI_API_VERSION}, Model - GPT-4.1-mini\n",
    "\"\"\")\n",
    "\n",
    "# Run the demonstration\n",
    "success = demonstrate_container_file_access_issue()\n",
    "print_summary()"
   ]
  }
 ],
 "metadata": {
  "kernelspec": {
   "display_name": "Python 3",
   "language": "python",
   "name": "python3"
  },
  "language_info": {
   "codemirror_mode": {
    "name": "ipython",
    "version": 3
   },
   "file_extension": ".py",
   "mimetype": "text/x-python",
   "name": "python",
   "nbconvert_exporter": "python",
   "pygments_lexer": "ipython3",
   "version": "3.11.9"
  }
 },
 "nbformat": 4,
 "nbformat_minor": 5
}
